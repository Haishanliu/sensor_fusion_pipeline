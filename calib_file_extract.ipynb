{
 "cells": [
  {
   "cell_type": "code",
   "execution_count": 1,
   "metadata": {},
   "outputs": [],
   "source": [
    "import pandas as pd\n",
    "import numpy as np"
   ]
  },
  {
   "cell_type": "markdown",
   "metadata": {},
   "source": [
    "## read in the ISC Intrinsic parameters\n",
    "* it was organized into different sheets"
   ]
  },
  {
   "cell_type": "code",
   "execution_count": 43,
   "metadata": {},
   "outputs": [
    {
     "name": "stdout",
     "output_type": "stream",
     "text": [
      "VisualCamera1\n",
      "VisualCamera2\n",
      "VisualCamera3\n",
      "VisualCamera4\n",
      "VisualCamera5\n",
      "VisualCamera6\n",
      "VisualCamera7\n",
      "VisualCamera8\n",
      "ThermalCamera1\n",
      "ThermalCamera2\n",
      "ThermalCamera3\n",
      "ThermalCamera4\n",
      "ThermalCamera5\n"
     ]
    }
   ],
   "source": [
    "# read in the excel file\n",
    "\n",
    "cam_intri_sheets = pd.read_excel('../datasets/Safety_Challenge_data/validation_data/calibration/CameraIntrinsicsv2.xlsx', sheet_name=None)\n",
    "for sheet_name, sheet in cam_intri_sheets.items():\n",
    "    print(sheet_name)\n",
    "    # print(sheet)"
   ]
  },
  {
   "cell_type": "code",
   "execution_count": 23,
   "metadata": {},
   "outputs": [
    {
     "data": {
      "text/html": [
       "<div>\n",
       "<style scoped>\n",
       "    .dataframe tbody tr th:only-of-type {\n",
       "        vertical-align: middle;\n",
       "    }\n",
       "\n",
       "    .dataframe tbody tr th {\n",
       "        vertical-align: top;\n",
       "    }\n",
       "\n",
       "    .dataframe thead th {\n",
       "        text-align: right;\n",
       "    }\n",
       "</style>\n",
       "<table border=\"1\" class=\"dataframe\">\n",
       "  <thead>\n",
       "    <tr style=\"text-align: right;\">\n",
       "      <th></th>\n",
       "      <th>Intrinsic Matrix</th>\n",
       "    </tr>\n",
       "  </thead>\n",
       "  <tbody>\n",
       "    <tr>\n",
       "      <th>0</th>\n",
       "      <td>[1379.3550635419430818728869780898,           ...</td>\n",
       "    </tr>\n",
       "    <tr>\n",
       "      <th>1</th>\n",
       "      <td>[                                0, 1378.17884...</td>\n",
       "    </tr>\n",
       "    <tr>\n",
       "      <th>2</th>\n",
       "      <td>[                                0,           ...</td>\n",
       "    </tr>\n",
       "    <tr>\n",
       "      <th>3</th>\n",
       "      <td>NaN</td>\n",
       "    </tr>\n",
       "    <tr>\n",
       "      <th>4</th>\n",
       "      <td>Radial Distortion</td>\n",
       "    </tr>\n",
       "    <tr>\n",
       "      <th>5</th>\n",
       "      <td>0.023226</td>\n",
       "    </tr>\n",
       "    <tr>\n",
       "      <th>6</th>\n",
       "      <td>-0.065994</td>\n",
       "    </tr>\n",
       "    <tr>\n",
       "      <th>7</th>\n",
       "      <td>0.033929</td>\n",
       "    </tr>\n",
       "    <tr>\n",
       "      <th>8</th>\n",
       "      <td>NaN</td>\n",
       "    </tr>\n",
       "    <tr>\n",
       "      <th>9</th>\n",
       "      <td>Tangential Distortion</td>\n",
       "    </tr>\n",
       "    <tr>\n",
       "      <th>10</th>\n",
       "      <td>-0.008776</td>\n",
       "    </tr>\n",
       "    <tr>\n",
       "      <th>11</th>\n",
       "      <td>-0.001704</td>\n",
       "    </tr>\n",
       "    <tr>\n",
       "      <th>12</th>\n",
       "      <td>NaN</td>\n",
       "    </tr>\n",
       "    <tr>\n",
       "      <th>13</th>\n",
       "      <td>NaN</td>\n",
       "    </tr>\n",
       "    <tr>\n",
       "      <th>14</th>\n",
       "      <td>Mean Reprojection Error = 0.2569 pixels</td>\n",
       "    </tr>\n",
       "  </tbody>\n",
       "</table>\n",
       "</div>"
      ],
      "text/plain": [
       "                                     Intrinsic Matrix\n",
       "0   [1379.3550635419430818728869780898,           ...\n",
       "1   [                                0, 1378.17884...\n",
       "2   [                                0,           ...\n",
       "3                                                 NaN\n",
       "4                                   Radial Distortion\n",
       "5                                            0.023226\n",
       "6                                           -0.065994\n",
       "7                                            0.033929\n",
       "8                                                 NaN\n",
       "9                               Tangential Distortion\n",
       "10                                          -0.008776\n",
       "11                                          -0.001704\n",
       "12                                                NaN\n",
       "13                                                NaN\n",
       "14            Mean Reprojection Error = 0.2569 pixels"
      ]
     },
     "execution_count": 23,
     "metadata": {},
     "output_type": "execute_result"
    }
   ],
   "source": [
    "cam_intri_sheets['VisualCamera1']"
   ]
  },
  {
   "cell_type": "code",
   "execution_count": 24,
   "metadata": {},
   "outputs": [
    {
     "data": {
      "text/plain": [
       "array([1379.35506354,    0.        ,  952.85219438])"
      ]
     },
     "execution_count": 24,
     "metadata": {},
     "output_type": "execute_result"
    }
   ],
   "source": [
    "\n",
    "cam_intri_sheets['VisualCamera1'].iloc[0,0]\n",
    "# convert str '[num, num, num]' to list of numbers\n",
    "cam_intri_sheets['VisualCamera1'].iloc[0,0].replace('[','').replace(']','').split(', ')\n",
    "# convert list of str to list of float\n",
    "np.array(cam_intri_sheets['VisualCamera1'].iloc[0,0].replace('[','').replace(']','').split(', ')).astype(float)"
   ]
  },
  {
   "cell_type": "code",
   "execution_count": 52,
   "metadata": {},
   "outputs": [
    {
     "name": "stdout",
     "output_type": "stream",
     "text": [
      "[1.37935506e+03 0.00000000e+00 9.52852194e+02 0.00000000e+00\n",
      " 1.37817884e+03 5.00982572e+02 0.00000000e+00 0.00000000e+00\n",
      " 1.00000000e+00] [ 0.0232262  -0.06599417 -0.00877611 -0.00170374  0.0339294 ]\n"
     ]
    }
   ],
   "source": [
    "def create_cam_intri(sheet_df):\n",
    "    # get the K matrix\n",
    "    # get the D matrix\n",
    "    # each row of K\n",
    "    K_0 = np.array(sheet_df.iloc[0,0].replace('[','').replace(']','').replace(' ', '').split(',')).astype(float)\n",
    "    K_1 = np.array(sheet_df.iloc[1,0].replace('[','').replace(']','').replace(' ', '').split(',')).astype(float)\n",
    "    K_2 = np.array(sheet_df.iloc[2,0].replace('[','').replace(']','').replace(' ', '').split(',')).astype(float)\n",
    "    \n",
    "    # stack the rows of K to get the K matrix\n",
    "    K = np.stack([K_0, K_1, K_2], axis=0).ravel()\n",
    "\n",
    "    # D = [k1, k2, p1, p2, k3] #k = radial distortion, p = tangential distortion\n",
    "    k1 = sheet_df.iloc[5, 0]\n",
    "    k2 = sheet_df.iloc[6, 0]\n",
    "    k3 = sheet_df.iloc[7, 0]\n",
    "    p1 = sheet_df.iloc[10, 0]\n",
    "    p2 = sheet_df.iloc[11, 0]\n",
    "    D = np.array([k1, k2, p1, p2, k3]).astype(float)\n",
    "    return K, D\n",
    "K, D = create_cam_intri(cam_intri_sheets['VisualCamera1'])\n",
    "print(K, D)"
   ]
  },
  {
   "cell_type": "markdown",
   "metadata": {},
   "source": [
    "## read in the extrinsic calibration results\n",
    "* The T matrix is already in the form of (4 * 4) transformation matrix [R | T] and the last row is 0, 0 , 0, 1"
   ]
  },
  {
   "cell_type": "code",
   "execution_count": 64,
   "metadata": {},
   "outputs": [
    {
     "name": "stdout",
     "output_type": "stream",
     "text": [
      "VisualCamera1-VisualCamera5\n",
      "VisualCamera2-VisualCamera4\n",
      "VisualCamera2-VisualCamera7\n",
      "VisualCamera3-VisualCamera5\n",
      "VisualCamera4-VisualCamera5\n",
      "VisualCamera4-VisualCamera6\n",
      "VisualCamera4-VisualCamera7\n",
      "VisualCamera5-VisualCamera6\n",
      "VisualCamera5-VisualCamera8\n",
      "VisualCamera6-VisualCamera7\n",
      "VisualCamera7-VisualCamera8\n",
      "VisualCamera8-VisualCamera4\n"
     ]
    }
   ],
   "source": [
    "cam_extri_sheets = pd.read_excel('../datasets/Safety_Challenge_data/validation_data/calibration/CameraCameraExtrinsicCalibResultsv2.xlsx', sheet_name=None)\n",
    "for sheet_name, sheet in cam_extri_sheets.items():\n",
    "    print(sheet_name)\n",
    "    # print(sheet)\n"
   ]
  },
  {
   "cell_type": "code",
   "execution_count": 65,
   "metadata": {},
   "outputs": [
    {
     "data": {
      "text/plain": [
       "[' 0.91108039', '-0.16562823', ' 0.37749147', '-7.69394633']"
      ]
     },
     "execution_count": 65,
     "metadata": {},
     "output_type": "execute_result"
    }
   ],
   "source": [
    "cam_extri_sheets['VisualCamera1-VisualCamera5'].iloc[1,0].replace('[[','').replace('],','').split(', ')"
   ]
  },
  {
   "cell_type": "code",
   "execution_count": 66,
   "metadata": {},
   "outputs": [
    {
     "name": "stdout",
     "output_type": "stream",
     "text": [
      "[ 9.73425040e-01 -3.00101200e-02 -2.27031030e-01  1.75689994e+01\n",
      " -2.85214000e-02  9.67770360e-01 -2.50214040e-01  2.25364641e+01\n",
      "  2.27222850e-01  2.50039850e-01  9.41195970e-01 -5.68831732e+01\n",
      "  0.00000000e+00  0.00000000e+00  0.00000000e+00  1.00000000e+00]\n"
     ]
    }
   ],
   "source": [
    "def create_cam_extri(sheet_name, sheet_df):\n",
    "    # get the transformation matrix [R, T\n",
    "    #                                0, 1]\n",
    "    # get the T matrix\n",
    "    # each row of R\n",
    "    # replace all the white spaces and brackets\n",
    "\n",
    "    T_0 = np.array(sheet_df.iloc[1,0].replace('[[','').replace('],','').replace(' ', '').split(',')).astype(float)\n",
    "    T_1 = np.array(sheet_df.iloc[2,0].replace('[','').replace('],','').replace(' ', '').split(',')).astype(float)\n",
    "    T_2 = np.array(sheet_df.iloc[3,0].replace('[','').replace('],','').replace(' ', '').split(',')).astype(float)\n",
    "    T_3 = np.array(sheet_df.iloc[4,0].replace('[','').replace(']]','').replace(' ', '').split(',')).astype(float)\n",
    "    \n",
    "    # stack the rows of R to get the R matrix\n",
    "    T = np.stack([T_0, T_1, T_2, T_3], axis=0).ravel()\n",
    "    return T\n",
    "T = create_cam_extri('VisualCamera2-VisualCamera4', cam_extri_sheets['VisualCamera2-VisualCamera4'])  \n",
    "print(T)\n"
   ]
  },
  {
   "cell_type": "markdown",
   "metadata": {},
   "source": [
    "## generate the cam_to_cam file\n",
    "* It contains all intrinsic matrix for 9 cameras (8 Visual, 1 Thermal).\n",
    "* Each matrix is in a row\n",
    "* K: [fx 0 cx 0 fy cy 0 0 1]\n",
    "* D: [k1, k2, p1, p2, k3]\n",
    "* T: 4 * 4 transformation matrix"
   ]
  },
  {
   "cell_type": "code",
   "execution_count": 74,
   "metadata": {},
   "outputs": [],
   "source": [
    "import os\n",
    "def create_calib_file(cam_intri_sheets, cam_extri_sheets):\n",
    "    output_path = '../datasets/Safety_Challenge_data/validation_data/calibration/'\n",
    "    calib_file = open(os.path.join(output_path, 'cam_to_cam.txt'), 'w')\n",
    "    for cam_name, cam_intri in cam_intri_sheets.items():\n",
    "        try:\n",
    "            K, D = create_cam_intri(cam_intri)\n",
    "        except ValueError as e:\n",
    "            print(e)\n",
    "            print(f'Error in {cam_name}')\n",
    "            break\n",
    "        # write the K into a line\n",
    "        K_string = ' '.join(map(str, K))\n",
    "        D_string = ' '.join(map(str, D))\n",
    "        calib_file.write(f'K_{cam_name}: {K_string}\\n')\n",
    "        calib_file.write(f'D_{cam_name}: {D_string}\\n')\n",
    "    for cam_pair, cam_extri in cam_extri_sheets.items():\n",
    "        try:\n",
    "            T = create_cam_extri(cam_pair, cam_extri)\n",
    "        except ValueError as e:\n",
    "            print(e)\n",
    "            print(f'Error in {cam_pair}')\n",
    "            break\n",
    "        T_string = ' '.join(map(str, T))\n",
    "        calib_file.write(f'T_{cam_pair}: {T_string}\\n')\n",
    "    calib_file.close()\n",
    "create_calib_file(cam_intri_sheets, cam_extri_sheets)"
   ]
  },
  {
   "cell_type": "markdown",
   "metadata": {},
   "source": [
    "## read in the calibration file to check everything is saved properly"
   ]
  },
  {
   "cell_type": "code",
   "execution_count": 76,
   "metadata": {},
   "outputs": [
    {
     "name": "stdout",
     "output_type": "stream",
     "text": [
      "K_VisualCamera1: 1379.355063541943 0.0 952.8521943785312 0.0 1378.1788420760524 500.98257206400126 0.0 0.0 1.0\n"
     ]
    }
   ],
   "source": [
    "# read the file to check if it is written correctly\n",
    "calib_file = open('../datasets/Safety_Challenge_data/validation_data/calibration/cam_to_cam.txt', 'r')\n",
    "print(calib_file.read().splitlines()[0])"
   ]
  },
  {
   "cell_type": "code",
   "execution_count": null,
   "metadata": {},
   "outputs": [],
   "source": [
    "## Note: I added the lidar to Lidar manually to the cam_to_cam.txt file"
   ]
  }
 ],
 "metadata": {
  "kernelspec": {
   "display_name": "Pytorch",
   "language": "python",
   "name": "python3"
  },
  "language_info": {
   "codemirror_mode": {
    "name": "ipython",
    "version": 3
   },
   "file_extension": ".py",
   "mimetype": "text/x-python",
   "name": "python",
   "nbconvert_exporter": "python",
   "pygments_lexer": "ipython3",
   "version": "3.8.19"
  }
 },
 "nbformat": 4,
 "nbformat_minor": 2
}
